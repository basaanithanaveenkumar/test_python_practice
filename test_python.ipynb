{
 "cells": [
  {
   "cell_type": "code",
   "execution_count": 1,
   "id": "502a8b43",
   "metadata": {},
   "outputs": [],
   "source": [
    "x=[2,3,4]"
   ]
  },
  {
   "cell_type": "code",
   "execution_count": 3,
   "id": "7b47802b",
   "metadata": {},
   "outputs": [
    {
     "name": "stderr",
     "output_type": "stream",
     "text": [
      "2022-10-04 18:22:12.223243: I tensorflow/stream_executor/platform/default/dso_loader.cc:49] Successfully opened dynamic library libcudart.so.10.1\n"
     ]
    }
   ],
   "source": [
    "# import the required dependencies\n",
    "\n",
    "import tensorflow"
   ]
  },
  {
   "cell_type": "code",
   "execution_count": 4,
   "id": "b9026991",
   "metadata": {},
   "outputs": [],
   "source": [
    "# adding the item to the list in th new way\n",
    "x+=[1]"
   ]
  },
  {
   "cell_type": "code",
   "execution_count": 5,
   "id": "7a92f1c0",
   "metadata": {},
   "outputs": [
    {
     "data": {
      "text/plain": [
       "[2, 3, 4, 1]"
      ]
     },
     "execution_count": 5,
     "metadata": {},
     "output_type": "execute_result"
    }
   ],
   "source": [
    "x"
   ]
  },
  {
   "cell_type": "code",
   "execution_count": 6,
   "id": "9328af5b",
   "metadata": {},
   "outputs": [],
   "source": [
    "x+=[1,2,3]"
   ]
  },
  {
   "cell_type": "code",
   "execution_count": 7,
   "id": "79337689",
   "metadata": {},
   "outputs": [
    {
     "data": {
      "text/plain": [
       "7"
      ]
     },
     "execution_count": 7,
     "metadata": {},
     "output_type": "execute_result"
    }
   ],
   "source": [
    "len(x)"
   ]
  },
  {
   "cell_type": "code",
   "execution_count": 8,
   "id": "660eea7c",
   "metadata": {},
   "outputs": [],
   "source": [
    "# tuple unpacking\n",
    "x=(800,6)\n",
    "a,b=x"
   ]
  },
  {
   "cell_type": "code",
   "execution_count": 9,
   "id": "0952dc34",
   "metadata": {},
   "outputs": [
    {
     "ename": "ValueError",
     "evalue": "too many values to unpack (expected 2)",
     "output_type": "error",
     "traceback": [
      "\u001b[0;31m---------------------------------------------------------------------------\u001b[0m",
      "\u001b[0;31mValueError\u001b[0m                                Traceback (most recent call last)",
      "\u001b[0;32m/tmp/ipykernel_52621/4275563470.py\u001b[0m in \u001b[0;36m<module>\u001b[0;34m\u001b[0m\n\u001b[1;32m      1\u001b[0m \u001b[0ml\u001b[0m\u001b[0;34m=\u001b[0m\u001b[0;34m(\u001b[0m\u001b[0;36m9\u001b[0m\u001b[0;34m,\u001b[0m\u001b[0;36m0\u001b[0m\u001b[0;34m,\u001b[0m\u001b[0;36m0\u001b[0m\u001b[0;34m)\u001b[0m\u001b[0;34m\u001b[0m\u001b[0;34m\u001b[0m\u001b[0m\n\u001b[0;32m----> 2\u001b[0;31m \u001b[0ma\u001b[0m\u001b[0;34m,\u001b[0m\u001b[0mb\u001b[0m\u001b[0;34m=\u001b[0m\u001b[0ml\u001b[0m\u001b[0;34m\u001b[0m\u001b[0;34m\u001b[0m\u001b[0m\n\u001b[0m",
      "\u001b[0;31mValueError\u001b[0m: too many values to unpack (expected 2)"
     ]
    }
   ],
   "source": [
    "l=(9,0,0)\n",
    "a,b=l"
   ]
  },
  {
   "cell_type": "code",
   "execution_count": 10,
   "id": "c5fc2679",
   "metadata": {},
   "outputs": [],
   "source": [
    "l=(9,0,0)\n",
    "a,b,c=l"
   ]
  },
  {
   "cell_type": "code",
   "execution_count": 15,
   "id": "53a96db6",
   "metadata": {},
   "outputs": [],
   "source": [
    "# how to use the zip function in python\n",
    "k=[0,9,0]\n",
    "j=[9,8,8]\n",
    "h=zip(k,j)"
   ]
  },
  {
   "cell_type": "code",
   "execution_count": 16,
   "id": "cdcba0fd",
   "metadata": {},
   "outputs": [
    {
     "name": "stdout",
     "output_type": "stream",
     "text": [
      "<zip object at 0x7f457c855980>\n"
     ]
    }
   ],
   "source": [
    "print(h)"
   ]
  },
  {
   "cell_type": "code",
   "execution_count": 17,
   "id": "0c424d71",
   "metadata": {},
   "outputs": [
    {
     "data": {
      "text/plain": [
       "[(0, 9), (9, 8), (0, 8)]"
      ]
     },
     "execution_count": 17,
     "metadata": {},
     "output_type": "execute_result"
    }
   ],
   "source": [
    "list(h)"
   ]
  },
  {
   "cell_type": "code",
   "execution_count": 21,
   "id": "06278108",
   "metadata": {},
   "outputs": [],
   "source": [
    "# enumeratiuon gives the index values inside the tupple\n",
    "list_enu=enumerate(j)"
   ]
  },
  {
   "cell_type": "code",
   "execution_count": 22,
   "id": "7df34454",
   "metadata": {},
   "outputs": [
    {
     "name": "stdout",
     "output_type": "stream",
     "text": [
      "[(0, 9), (1, 8), (2, 8)]\n"
     ]
    }
   ],
   "source": [
    "print(list(list_enu))"
   ]
  },
  {
   "cell_type": "code",
   "execution_count": 23,
   "id": "b3c77cb2",
   "metadata": {},
   "outputs": [
    {
     "name": "stdout",
     "output_type": "stream",
     "text": [
      "Cloning into 'TF2-Keras-GAN-Notebooks'...\n",
      "remote: Enumerating objects: 203, done.\u001b[K\n",
      "remote: Counting objects: 100% (1/1), done.\u001b[K\n",
      "remote: Total 203 (delta 0), reused 0 (delta 0), pack-reused 202\u001b[K\n",
      "Receiving objects: 100% (203/203), 93.56 MiB | 3.61 MiB/s, done.\n",
      "Resolving deltas: 100% (85/85), done.\n"
     ]
    }
   ],
   "source": [
    "!git clone https://github.com/kartikgill/TF2-Keras-GAN-Notebooks.git"
   ]
  },
  {
   "cell_type": "code",
   "execution_count": 24,
   "id": "22786f47",
   "metadata": {},
   "outputs": [
    {
     "name": "stdout",
     "output_type": "stream",
     "text": [
      "# packages in environment at /home/ml_server/.conda/envs/tfgpu:\r\n",
      "#\r\n",
      "# Name                    Version                   Build  Channel\r\n",
      "cudnn                     7.6.5                cuda10.1_0  \r\n"
     ]
    }
   ],
   "source": [
    "!conda list cudnn"
   ]
  },
  {
   "cell_type": "code",
   "execution_count": 25,
   "id": "e1a6244f",
   "metadata": {},
   "outputs": [
    {
     "name": "stdout",
     "output_type": "stream",
     "text": [
      "# packages in environment at /home/ml_server/.conda/envs/tfgpu:\r\n",
      "#\r\n",
      "# Name                    Version                   Build  Channel\r\n",
      "cudatoolkit               10.1.243             h6bb024c_0  \r\n"
     ]
    }
   ],
   "source": [
    "!conda list cuda"
   ]
  },
  {
   "cell_type": "code",
   "execution_count": null,
   "id": "db54ab74",
   "metadata": {},
   "outputs": [],
   "source": []
  },
  {
   "cell_type": "code",
   "execution_count": null,
   "id": "40205d14",
   "metadata": {},
   "outputs": [],
   "source": []
  },
  {
   "cell_type": "code",
   "execution_count": null,
   "id": "0b03ffe1",
   "metadata": {},
   "outputs": [],
   "source": []
  }
 ],
 "metadata": {
  "kernelspec": {
   "display_name": "tfgpu",
   "language": "python",
   "name": "tfgpu"
  },
  "language_info": {
   "codemirror_mode": {
    "name": "ipython",
    "version": 3
   },
   "file_extension": ".py",
   "mimetype": "text/x-python",
   "name": "python",
   "nbconvert_exporter": "python",
   "pygments_lexer": "ipython3",
   "version": "3.9.13"
  },
  "varInspector": {
   "cols": {
    "lenName": 16,
    "lenType": 16,
    "lenVar": 40
   },
   "kernels_config": {
    "python": {
     "delete_cmd_postfix": "",
     "delete_cmd_prefix": "del ",
     "library": "var_list.py",
     "varRefreshCmd": "print(var_dic_list())"
    },
    "r": {
     "delete_cmd_postfix": ") ",
     "delete_cmd_prefix": "rm(",
     "library": "var_list.r",
     "varRefreshCmd": "cat(var_dic_list()) "
    }
   },
   "position": {
    "height": "911.85px",
    "left": "18px",
    "right": "20px",
    "top": "39px",
    "width": "320px"
   },
   "types_to_exclude": [
    "module",
    "function",
    "builtin_function_or_method",
    "instance",
    "_Feature"
   ],
   "window_display": true
  }
 },
 "nbformat": 4,
 "nbformat_minor": 5
}
